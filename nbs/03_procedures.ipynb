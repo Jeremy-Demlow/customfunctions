{
 "cells": [
  {
   "cell_type": "markdown",
   "metadata": {},
   "source": [
    "# Connection\n",
    "\n",
    "> Helps Manage Snowflake Connection"
   ]
  },
  {
   "cell_type": "code",
   "execution_count": 3,
   "metadata": {},
   "outputs": [],
   "source": [
    "#| default_exp procedures"
   ]
  },
  {
   "cell_type": "code",
   "execution_count": 4,
   "metadata": {},
   "outputs": [],
   "source": [
    "#| hide\n",
    "from nbdev.showdoc import *"
   ]
  },
  {
   "cell_type": "code",
   "execution_count": null,
   "metadata": {},
   "outputs": [],
   "source": [
    "#| export\n",
    "from pathlib import Path\n",
    "from datetime import datetime\n",
    "from snowflake.snowpark import Session\n",
    "\n",
    "from typing import Optional, Dict, Union\n",
    "import sys\n",
    "import json\n",
    "import os\n",
    "import yaml\n",
    "import logging\n",
    "import zipfile"
   ]
  },
  {
   "cell_type": "code",
   "execution_count": 6,
   "metadata": {},
   "outputs": [],
   "source": [
    "#| export\n",
    "\n",
    "\n",
    "def is_snowflake_environment() -> bool:\n",
    "    \"\"\"Detect if code is running in Snowflake environment.\"\"\"\n",
    "    return hasattr(sys, '_xoptions') and 'snowflake_import_directory' in sys._xoptions"
   ]
  },
  {
   "cell_type": "code",
   "execution_count": 7,
   "metadata": {},
   "outputs": [
    {
     "data": {
      "text/plain": [
       "False"
      ]
     },
     "execution_count": 7,
     "metadata": {},
     "output_type": "execute_result"
    }
   ],
   "source": [
    "is_snowflake_environment()"
   ]
  },
  {
   "cell_type": "code",
   "execution_count": 18,
   "metadata": {},
   "outputs": [],
   "source": [
    "#| export\n",
    "\n",
    "\n",
    "def find_config_file(filename: str = 'config.yaml', max_levels_up: int = 3) -> Optional[Path]:\n",
    "    \"\"\"\n",
    "    Search for config file in current directory and parent directories.\n",
    "    \n",
    "    Args:\n",
    "        filename: Name of config file to find\n",
    "        max_levels_up: Maximum number of parent directories to check\n",
    "    \n",
    "    Returns:\n",
    "        Path to config file if found, None otherwise\n",
    "    \"\"\"\n",
    "    current = Path.cwd()\n",
    "    \n",
    "    # First check if config exists in expected structure from current directory\n",
    "    expected_path = current / 'customfunctions' / 'files' / filename\n",
    "    if expected_path.is_file():\n",
    "        return expected_path\n",
    "        \n",
    "    # Then check parent directories\n",
    "    for _ in range(max_levels_up):\n",
    "        # Check for config in customfunctions/files structure\n",
    "        config_path = current / 'customfunctions' / 'files' / filename\n",
    "        if config_path.is_file():\n",
    "            return config_path\n",
    "            \n",
    "        # Also check for direct config.yaml in case structure is different\n",
    "        direct_path = current / filename\n",
    "        if direct_path.is_file():\n",
    "            return direct_path\n",
    "            \n",
    "        current = current.parent\n",
    "        \n",
    "    return None\n",
    "\n",
    "def get_config_path(snowflake_extracted_path: str = '/tmp/customfunctions') -> Path:\n",
    "    \"\"\"\n",
    "    Determine the configuration file path based on environment.\n",
    "    \n",
    "    Args:\n",
    "        snowflake_extracted_path: Path where Snowflake extracts files\n",
    "    \n",
    "    Returns:\n",
    "        Path object pointing to config file\n",
    "    \"\"\"\n",
    "    if is_snowflake_environment():\n",
    "        # Snowflake environment logic remains the same\n",
    "        import_dir = Path(sys._xoptions['snowflake_import_directory'])\n",
    "        zip_file_path = import_dir / \"customfunctions.zip\"\n",
    "        \n",
    "        if not Path(snowflake_extracted_path).exists():\n",
    "            try:\n",
    "                with zipfile.ZipFile(zip_file_path, 'r') as myzip:\n",
    "                    myzip.extractall(snowflake_extracted_path)\n",
    "            except Exception as e:\n",
    "                logging.error(f\"Failed to extract ZIP file: {e}\")\n",
    "                raise\n",
    "                \n",
    "        return Path(snowflake_extracted_path) / 'customfunctions/files/config.yaml'\n",
    "    else:\n",
    "        # Local environment - search for config file\n",
    "        config_path = find_config_file()\n",
    "        if config_path is None:\n",
    "            # If not found, return a default path for consistent error messaging\n",
    "            return Path.cwd() / 'customfunctions' / 'files' / 'config.yaml'\n",
    "        return config_path"
   ]
  },
  {
   "cell_type": "code",
   "execution_count": 19,
   "metadata": {},
   "outputs": [
    {
     "data": {
      "text/plain": [
       "Path('/Users/jdemlow/github/customfunctions/customfunctions/files/config.yaml')"
      ]
     },
     "execution_count": 19,
     "metadata": {},
     "output_type": "execute_result"
    }
   ],
   "source": [
    "get_config_path()"
   ]
  },
  {
   "cell_type": "code",
   "execution_count": 11,
   "metadata": {},
   "outputs": [],
   "source": [
    "#| export\n",
    "\n",
    "\n",
    "def load_config(config_path: Path) -> Dict:\n",
    "    \"\"\"\n",
    "    Load configuration from YAML file with error handling.\n",
    "    \n",
    "    Args:\n",
    "        config_path: Path to configuration file\n",
    "    \n",
    "    Returns:\n",
    "        Dictionary containing configuration\n",
    "    \"\"\"\n",
    "    try:\n",
    "        if config_path.is_file():\n",
    "            with open(config_path, 'r') as file:\n",
    "                config = yaml.safe_load(file)\n",
    "                logging.info(f\"Successfully loaded configuration from {config_path}\")\n",
    "                return config or {}\n",
    "        else:\n",
    "            logging.warning(f\"Configuration file '{config_path}' not found. Using empty configuration.\")\n",
    "            return {}\n",
    "    except Exception as e:\n",
    "        logging.error(f\"Error reading configuration file: {e}\")\n",
    "        return {}"
   ]
  },
  {
   "cell_type": "code",
   "execution_count": 22,
   "metadata": {},
   "outputs": [
    {
     "data": {
      "text/plain": [
       "{'added_word': 'YAML FOR THE WIN'}"
      ]
     },
     "execution_count": 22,
     "metadata": {},
     "output_type": "execute_result"
    }
   ],
   "source": [
    "load_config(get_config_path())"
   ]
  },
  {
   "cell_type": "code",
   "execution_count": 23,
   "metadata": {},
   "outputs": [
    {
     "data": {
      "text/plain": [
       "{'added_word': 'YAML FOR THE WIN'}"
      ]
     },
     "execution_count": 23,
     "metadata": {},
     "output_type": "execute_result"
    }
   ],
   "source": [
    "load_config(Path('../customfunctions/files/config.yaml'))"
   ]
  },
  {
   "cell_type": "code",
   "execution_count": 24,
   "metadata": {},
   "outputs": [],
   "source": [
    "#| export\n",
    "\n",
    "\n",
    "def hello_procedure(session: Optional[Session] = None, name: str = \"World\") -> str:\n",
    "    \"\"\"\n",
    "    Enhanced hello procedure that works both locally and in Snowflake.\n",
    "    \n",
    "    Args:\n",
    "        session: Snowflake session (optional, only needed in Snowflake environment)\n",
    "        name: Name to greet\n",
    "    \n",
    "    Returns:\n",
    "        Greeting string\n",
    "    \"\"\"\n",
    "    try:\n",
    "        # Get config path based on environment\n",
    "        config_path = get_config_path()\n",
    "        \n",
    "        # Load configuration\n",
    "        config = load_config(config_path)\n",
    "        \n",
    "        # Get additional word from config, with fallback\n",
    "        added_word = config.get('added_word', '')\n",
    "        \n",
    "        # Build and return greeting\n",
    "        greeting = f\"Hello, {name}!\"\n",
    "        if added_word:\n",
    "            greeting += f\" {added_word}\"\n",
    "            \n",
    "        return greeting\n",
    "        \n",
    "    except Exception as e:\n",
    "        logging.error(f\"Error in hello_procedure: {e}\")\n",
    "        # Return a basic greeting in case of any errors\n",
    "        return f\"Hello, {name}!\"\n"
   ]
  },
  {
   "cell_type": "code",
   "execution_count": 26,
   "metadata": {},
   "outputs": [
    {
     "name": "stdout",
     "output_type": "stream",
     "text": [
      "Local test result: Hello, Local User! YAML FOR THE WIN\n"
     ]
    }
   ],
   "source": [
    "# Set up logging\n",
    "logging.basicConfig(level=logging.INFO)\n",
    "\n",
    "# Test local execution\n",
    "result = hello_procedure(session=Session, name=\"Local User\")\n",
    "print(f\"Local test result: {result}\")"
   ]
  },
  {
   "cell_type": "code",
   "execution_count": 27,
   "metadata": {},
   "outputs": [],
   "source": [
    "# | export\n",
    "def test_procedure(session: Session) -> str:\n",
    "    return \"Test procedure\""
   ]
  },
  {
   "cell_type": "code",
   "execution_count": 29,
   "metadata": {},
   "outputs": [],
   "source": [
    "#| hide\n",
    "import nbdev; nbdev.nbdev_export()"
   ]
  },
  {
   "cell_type": "code",
   "execution_count": null,
   "metadata": {},
   "outputs": [],
   "source": []
  }
 ],
 "metadata": {
  "kernelspec": {
   "display_name": "custom_functions",
   "language": "python",
   "name": "python3"
  },
  "language_info": {
   "codemirror_mode": {
    "name": "ipython",
    "version": 3
   },
   "file_extension": ".py",
   "mimetype": "text/x-python",
   "name": "python",
   "nbconvert_exporter": "python",
   "pygments_lexer": "ipython3",
   "version": "3.11.10"
  }
 },
 "nbformat": 4,
 "nbformat_minor": 4
}
