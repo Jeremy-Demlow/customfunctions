{
 "cells": [
  {
   "cell_type": "markdown",
   "metadata": {},
   "source": [
    "# Connection\n",
    "\n",
    "> Helps Manage Snowflake Connection"
   ]
  },
  {
   "cell_type": "code",
   "execution_count": 2,
   "metadata": {},
   "outputs": [],
   "source": [
    "#| default_exp common"
   ]
  },
  {
   "cell_type": "code",
   "execution_count": 3,
   "metadata": {},
   "outputs": [],
   "source": [
    "#| hide\n",
    "from nbdev.showdoc import *"
   ]
  },
  {
   "cell_type": "code",
   "execution_count": 1,
   "metadata": {},
   "outputs": [],
   "source": [
    "#| export\n",
    "from pathlib import Path\n",
    "\n",
    "from typing import Optional, Dict\n",
    "import sys\n",
    "import json\n",
    "import os\n",
    "import yaml\n",
    "import logging\n",
    "import zipfile"
   ]
  },
  {
   "cell_type": "code",
   "execution_count": 2,
   "metadata": {},
   "outputs": [],
   "source": [
    "#| export\n",
    "\n",
    "\n",
    "def print_hello(name: str) -> str:\n",
    "    \"\"\"\n",
    "    Prints a greeting message for the specified name. DEFAULT FUNCTION\n",
    "\n",
    "    Parameters\n",
    "    ----------\n",
    "    name : str\n",
    "        The name of the person to greet.\n",
    "\n",
    "    Returns\n",
    "    -------\n",
    "    str\n",
    "        A greeting message for the provided\n",
    "    \"\"\"\n",
    "    return f\"Hello {name}!\"\n",
    "\n"
   ]
  },
  {
   "cell_type": "code",
   "execution_count": 4,
   "metadata": {},
   "outputs": [
    {
     "data": {
      "text/plain": [
       "'Hello Developer!'"
      ]
     },
     "execution_count": 4,
     "metadata": {},
     "output_type": "execute_result"
    }
   ],
   "source": [
    "print_hello(\"Developer\")"
   ]
  },
  {
   "cell_type": "code",
   "execution_count": 5,
   "metadata": {},
   "outputs": [],
   "source": [
    "#| export\n",
    "\n",
    "def is_snowflake_environment() -> bool:\n",
    "    \"\"\"Detect if code is running in Snowflake environment.\"\"\"\n",
    "    return hasattr(sys, '_xoptions') and 'snowflake_import_directory' in sys._xoptions\n"
   ]
  },
  {
   "cell_type": "code",
   "execution_count": 6,
   "metadata": {},
   "outputs": [
    {
     "data": {
      "text/plain": [
       "False"
      ]
     },
     "execution_count": 6,
     "metadata": {},
     "output_type": "execute_result"
    }
   ],
   "source": [
    "is_snowflake_environment()"
   ]
  },
  {
   "cell_type": "code",
   "execution_count": 8,
   "metadata": {},
   "outputs": [],
   "source": [
    "#| export\n",
    "\n",
    "\n",
    "def find_config_file(filename: str = 'config.yaml', max_levels_up: int = 3) -> Optional[Path]:\n",
    "    \"\"\"\n",
    "    Search for config file in current directory and parent directories.\n",
    "    \n",
    "    Args:\n",
    "        filename: Name of config file to find\n",
    "        max_levels_up: Maximum number of parent directories to check\n",
    "    \n",
    "    Returns:\n",
    "        Path to config file if found, None otherwise\n",
    "    \"\"\"\n",
    "    current = Path.cwd()\n",
    "    \n",
    "    # First check if config exists in expected structure from current directory\n",
    "    expected_path = current / 'customfunctions' / 'files' / filename\n",
    "    if expected_path.is_file():\n",
    "        return expected_path\n",
    "        \n",
    "    # Then check parent directories\n",
    "    for _ in range(max_levels_up):\n",
    "        # Check for config in customfunctions/files structure\n",
    "        config_path = current / 'customfunctions' / 'files' / filename\n",
    "        if config_path.is_file():\n",
    "            return config_path\n",
    "            \n",
    "        # Also check for direct config.yaml in case structure is different\n",
    "        direct_path = current / filename\n",
    "        if direct_path.is_file():\n",
    "            return direct_path\n",
    "            \n",
    "        current = current.parent\n",
    "        \n",
    "    return None\n"
   ]
  },
  {
   "cell_type": "code",
   "execution_count": 9,
   "metadata": {},
   "outputs": [
    {
     "data": {
      "text/plain": [
       "PosixPath('/Users/jdemlow/github/customfunctions/customfunctions/files/config.yaml')"
      ]
     },
     "execution_count": 9,
     "metadata": {},
     "output_type": "execute_result"
    }
   ],
   "source": [
    "find_config_file()"
   ]
  },
  {
   "cell_type": "code",
   "execution_count": 15,
   "metadata": {},
   "outputs": [],
   "source": [
    "#| export\n",
    "\n",
    "\n",
    "def get_config_path(snowflake_extracted_path: str = '/tmp/customfunctions') -> Path:\n",
    "    \"\"\"\n",
    "    Determine the configuration file path based on environment.\n",
    "    \n",
    "    Args:\n",
    "        snowflake_extracted_path: Path where Snowflake extracts files\n",
    "    \n",
    "    Returns:\n",
    "        Path object pointing to config file\n",
    "    \"\"\"\n",
    "    if is_snowflake_environment():\n",
    "        # Snowflake environment logic remains the same\n",
    "        import_dir = Path(sys._xoptions['snowflake_import_directory'])\n",
    "        zip_file_path = import_dir / \"customfunctions.zip\"\n",
    "        \n",
    "        if not Path(snowflake_extracted_path).exists():\n",
    "            try:\n",
    "                with zipfile.ZipFile(zip_file_path, 'r') as myzip:\n",
    "                    myzip.extractall(snowflake_extracted_path)\n",
    "            except Exception as e:\n",
    "                logging.error(f\"Failed to extract ZIP file: {e}\")\n",
    "                raise\n",
    "                \n",
    "        return Path(snowflake_extracted_path) / 'customfunctions/files/config.yaml'\n",
    "    else:\n",
    "        # Local environment - search for config file\n",
    "        config_path = find_config_file()\n",
    "        if config_path is None:\n",
    "            # If not found, return a default path for consistent error messaging\n",
    "            return Path.cwd() / 'customfunctions' / 'files' / 'config.yaml'\n",
    "        return config_path\n"
   ]
  },
  {
   "cell_type": "code",
   "execution_count": 16,
   "metadata": {},
   "outputs": [
    {
     "data": {
      "text/plain": [
       "PosixPath('/Users/jdemlow/github/customfunctions/customfunctions/files/config.yaml')"
      ]
     },
     "execution_count": 16,
     "metadata": {},
     "output_type": "execute_result"
    }
   ],
   "source": [
    "get_config_path()"
   ]
  },
  {
   "cell_type": "code",
   "execution_count": 19,
   "metadata": {},
   "outputs": [],
   "source": [
    "#| export\n",
    "\n",
    "\n",
    "def load_config(config_path: Path) -> Dict:\n",
    "    \"\"\"\n",
    "    Load configuration from YAML file with error handling.\n",
    "    \n",
    "    Args:\n",
    "        config_path: Path to configuration file\n",
    "    \n",
    "    Returns:\n",
    "        Dictionary containing configuration\n",
    "    \"\"\"\n",
    "    try:\n",
    "        if config_path.is_file():\n",
    "            with open(config_path, 'r') as file:\n",
    "                config = yaml.safe_load(file)\n",
    "                logging.info(f\"Successfully loaded configuration from {config_path}\")\n",
    "                return config or {}\n",
    "        else:\n",
    "            logging.warning(f\"Configuration file '{config_path}' not found. Using empty configuration.\")\n",
    "            return {}\n",
    "    except Exception as e:\n",
    "        logging.error(f\"Error reading configuration file: {e}\")\n",
    "        return {}"
   ]
  },
  {
   "cell_type": "code",
   "execution_count": 22,
   "metadata": {},
   "outputs": [
    {
     "name": "stdout",
     "output_type": "stream",
     "text": [
      "{'added_word': 'YAML FOR THE WIN'}\n"
     ]
    },
    {
     "data": {
      "text/plain": [
       "{'added_word': 'YAML FOR THE WIN'}"
      ]
     },
     "execution_count": 22,
     "metadata": {},
     "output_type": "execute_result"
    }
   ],
   "source": [
    "print(load_config(get_config_path()))\n",
    "load_config(Path('../customfunctions/files/config.yaml'))"
   ]
  },
  {
   "cell_type": "code",
   "execution_count": 24,
   "metadata": {},
   "outputs": [],
   "source": [
    "#| hide\n",
    "import nbdev; nbdev.nbdev_export()"
   ]
  },
  {
   "cell_type": "code",
   "execution_count": null,
   "metadata": {},
   "outputs": [],
   "source": []
  }
 ],
 "metadata": {
  "kernelspec": {
   "display_name": "custom_functions",
   "language": "python",
   "name": "python3"
  },
  "language_info": {
   "codemirror_mode": {
    "name": "ipython",
    "version": 3
   },
   "file_extension": ".py",
   "mimetype": "text/x-python",
   "name": "python",
   "nbconvert_exporter": "python",
   "pygments_lexer": "ipython3",
   "version": "3.11.10"
  }
 },
 "nbformat": 4,
 "nbformat_minor": 4
}
